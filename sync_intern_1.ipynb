{
  "nbformat": 4,
  "nbformat_minor": 0,
  "metadata": {
    "colab": {
      "provenance": [],
      "gpuType": "T4"
    },
    "kernelspec": {
      "name": "python3",
      "display_name": "Python 3"
    },
    "language_info": {
      "name": "python"
    },
    "accelerator": "GPU"
  },
  "cells": [
    {
      "cell_type": "code",
      "execution_count": 1,
      "metadata": {
        "colab": {
          "base_uri": "https://localhost:8080/"
        },
        "id": "NnINbj0FKrPW",
        "outputId": "b419ca79-eb43-4843-bede-b2caa6be9ec3"
      },
      "outputs": [
        {
          "output_type": "stream",
          "name": "stdout",
          "text": [
            "Requirement already satisfied: nltk in /usr/local/lib/python3.10/dist-packages (3.8.1)\n",
            "Requirement already satisfied: click in /usr/local/lib/python3.10/dist-packages (from nltk) (8.1.7)\n",
            "Requirement already satisfied: joblib in /usr/local/lib/python3.10/dist-packages (from nltk) (1.3.2)\n",
            "Requirement already satisfied: regex>=2021.8.3 in /usr/local/lib/python3.10/dist-packages (from nltk) (2023.6.3)\n",
            "Requirement already satisfied: tqdm in /usr/local/lib/python3.10/dist-packages (from nltk) (4.66.1)\n"
          ]
        }
      ],
      "source": [
        "!pip install nltk\n"
      ]
    },
    {
      "cell_type": "code",
      "source": [
        "import nltk\n",
        "from nltk.chat.util import Chat, reflections\n",
        "\n",
        "# Define the patterns and responses for the chatbot\n",
        "patterns = [\n",
        "    (r'hi|hello|hey', ['Hi there!', 'Hello!', 'Hey!']),\n",
        "    (r'how are you', ['I am good, thank you!', 'I\\'m doing well, how about you?']),\n",
        "    (r'(.*) your name', ['I am a chatbot created with Python!', 'You can call me Chatbot.']),\n",
        "    (r'(.*) help (.*)', ['Sure, I can help you. What do you need help with?']),\n",
        "    (r'quit|exit', ['Goodbye!', 'See you later!']),\n",
        "]\n",
        "\n",
        "# Create the chatbot\n",
        "chatbot = Chat(patterns, reflections)\n",
        "\n",
        "# Start the conversation\n",
        "print(\"Hello! I'm your chatbot. Type 'quit' or 'exit' to end the conversation.\")\n",
        "while True:\n",
        "    user_input = input(\"You: \")\n",
        "    response = chatbot.respond(user_input)\n",
        "    print(\"Chatbot:\", response)\n",
        "    if user_input.lower() in ['quit', 'exit']:\n",
        "        break\n"
      ],
      "metadata": {
        "colab": {
          "base_uri": "https://localhost:8080/"
        },
        "id": "_hC91l6yK4sS",
        "outputId": "371cdd2b-32e0-4cd4-eb3c-d164d88b0f30"
      },
      "execution_count": 2,
      "outputs": [
        {
          "output_type": "stream",
          "name": "stdout",
          "text": [
            "Hello! I'm your chatbot. Type 'quit' or 'exit' to end the conversation.\n",
            "You: heyy\n",
            "Chatbot: Hey!\n",
            "You: what's your name??\n",
            "Chatbot: You can call me Chatbot.\n",
            "You: hi chatbot, can you help me\n",
            "Chatbot: Hello!\n",
            "You: can you help me?\n",
            "Chatbot: Sure, I can help you. What do you need help with?\n",
            "You: exit\n",
            "Chatbot: See you later!\n"
          ]
        }
      ]
    }
  ]
}